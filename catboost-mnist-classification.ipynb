{
 "cells": [
  {
   "cell_type": "markdown",
   "metadata": {},
   "source": [
    "## Import necessary Libraries"
   ]
  },
  {
   "cell_type": "code",
   "execution_count": 4,
   "metadata": {},
   "outputs": [
    {
     "name": "stdout",
     "output_type": "stream",
     "text": [
      "Collecting catboost\n",
      "  Downloading catboost-0.26.1-cp39-none-win_amd64.whl (67.9 MB)\n",
      "Requirement already satisfied: matplotlib in c:\\users\\amanc\\anaconda3\\envs\\sept\\lib\\site-packages (from catboost) (3.4.3)\n",
      "Requirement already satisfied: scipy in c:\\users\\amanc\\anaconda3\\envs\\sept\\lib\\site-packages (from catboost) (1.7.1)\n",
      "Requirement already satisfied: six in c:\\users\\amanc\\anaconda3\\envs\\sept\\lib\\site-packages (from catboost) (1.16.0)\n",
      "Requirement already satisfied: numpy>=1.16.0 in c:\\users\\amanc\\anaconda3\\envs\\sept\\lib\\site-packages (from catboost) (1.21.2)\n",
      "Collecting graphviz\n",
      "  Downloading graphviz-0.17-py3-none-any.whl (18 kB)\n",
      "Collecting plotly\n",
      "  Downloading plotly-5.3.1-py2.py3-none-any.whl (23.9 MB)\n",
      "Requirement already satisfied: pandas>=0.24.0 in c:\\users\\amanc\\anaconda3\\envs\\sept\\lib\\site-packages (from catboost) (1.3.2)\n",
      "Requirement already satisfied: python-dateutil>=2.7.3 in c:\\users\\amanc\\anaconda3\\envs\\sept\\lib\\site-packages (from pandas>=0.24.0->catboost) (2.8.2)\n",
      "Requirement already satisfied: pytz>=2017.3 in c:\\users\\amanc\\anaconda3\\envs\\sept\\lib\\site-packages (from pandas>=0.24.0->catboost) (2021.1)\n",
      "Requirement already satisfied: cycler>=0.10 in c:\\users\\amanc\\anaconda3\\envs\\sept\\lib\\site-packages (from matplotlib->catboost) (0.10.0)\n",
      "Requirement already satisfied: pyparsing>=2.2.1 in c:\\users\\amanc\\anaconda3\\envs\\sept\\lib\\site-packages (from matplotlib->catboost) (2.4.7)\n",
      "Requirement already satisfied: pillow>=6.2.0 in c:\\users\\amanc\\anaconda3\\envs\\sept\\lib\\site-packages (from matplotlib->catboost) (8.3.1)\n",
      "Requirement already satisfied: kiwisolver>=1.0.1 in c:\\users\\amanc\\anaconda3\\envs\\sept\\lib\\site-packages (from matplotlib->catboost) (1.3.2)\n",
      "Collecting tenacity>=6.2.0\n",
      "  Downloading tenacity-8.0.1-py3-none-any.whl (24 kB)\n",
      "Installing collected packages: tenacity, plotly, graphviz, catboost\n",
      "Successfully installed catboost-0.26.1 graphviz-0.17 plotly-5.3.1 tenacity-8.0.1\n"
     ]
    }
   ],
   "source": [
    "!pip install catboost"
   ]
  },
  {
   "cell_type": "code",
   "execution_count": 5,
   "metadata": {
    "execution": {
     "iopub.execute_input": "2021-09-08T16:46:02.826422Z",
     "iopub.status.busy": "2021-09-08T16:46:02.826108Z",
     "iopub.status.idle": "2021-09-08T16:46:02.832615Z",
     "shell.execute_reply": "2021-09-08T16:46:02.831792Z",
     "shell.execute_reply.started": "2021-09-08T16:46:02.826394Z"
    }
   },
   "outputs": [],
   "source": [
    "import numpy as np\n",
    "import pandas as pd\n",
    "import os\n",
    "#import tensorflow as tf\n",
    "from catboost import CatBoostClassifier\n",
    "import pandas as pd\n",
    "import sklearn\n",
    "import matplotlib.pyplot as plt\n",
    "from sklearn.model_selection import train_test_split"
   ]
  },
  {
   "cell_type": "markdown",
   "metadata": {},
   "source": [
    "## Load data"
   ]
  },
  {
   "cell_type": "code",
   "execution_count": 7,
   "metadata": {
    "_cell_guid": "b1076dfc-b9ad-4769-8c92-a6c4dae69d19",
    "_uuid": "8f2839f25d086af736a60e9eeb907d3b93b6e0e5",
    "execution": {
     "iopub.execute_input": "2021-09-08T16:46:04.80231Z",
     "iopub.status.busy": "2021-09-08T16:46:04.801997Z",
     "iopub.status.idle": "2021-09-08T16:46:08.533991Z",
     "shell.execute_reply": "2021-09-08T16:46:08.533176Z",
     "shell.execute_reply.started": "2021-09-08T16:46:04.802282Z"
    }
   },
   "outputs": [],
   "source": [
    "train = pd.read_csv('train.csv')\n",
    "test = pd.read_csv('test.csv')"
   ]
  },
  {
   "cell_type": "code",
   "execution_count": 8,
   "metadata": {
    "execution": {
     "iopub.execute_input": "2021-09-08T16:46:13.44313Z",
     "iopub.status.busy": "2021-09-08T16:46:13.442801Z",
     "iopub.status.idle": "2021-09-08T16:46:13.4638Z",
     "shell.execute_reply": "2021-09-08T16:46:13.462829Z",
     "shell.execute_reply.started": "2021-09-08T16:46:13.443103Z"
    }
   },
   "outputs": [
    {
     "data": {
      "text/html": [
       "<div>\n",
       "<style scoped>\n",
       "    .dataframe tbody tr th:only-of-type {\n",
       "        vertical-align: middle;\n",
       "    }\n",
       "\n",
       "    .dataframe tbody tr th {\n",
       "        vertical-align: top;\n",
       "    }\n",
       "\n",
       "    .dataframe thead th {\n",
       "        text-align: right;\n",
       "    }\n",
       "</style>\n",
       "<table border=\"1\" class=\"dataframe\">\n",
       "  <thead>\n",
       "    <tr style=\"text-align: right;\">\n",
       "      <th></th>\n",
       "      <th>label</th>\n",
       "      <th>pixel0</th>\n",
       "      <th>pixel1</th>\n",
       "      <th>pixel2</th>\n",
       "      <th>pixel3</th>\n",
       "      <th>pixel4</th>\n",
       "      <th>pixel5</th>\n",
       "      <th>pixel6</th>\n",
       "      <th>pixel7</th>\n",
       "      <th>pixel8</th>\n",
       "      <th>...</th>\n",
       "      <th>pixel774</th>\n",
       "      <th>pixel775</th>\n",
       "      <th>pixel776</th>\n",
       "      <th>pixel777</th>\n",
       "      <th>pixel778</th>\n",
       "      <th>pixel779</th>\n",
       "      <th>pixel780</th>\n",
       "      <th>pixel781</th>\n",
       "      <th>pixel782</th>\n",
       "      <th>pixel783</th>\n",
       "    </tr>\n",
       "  </thead>\n",
       "  <tbody>\n",
       "    <tr>\n",
       "      <th>0</th>\n",
       "      <td>1</td>\n",
       "      <td>0</td>\n",
       "      <td>0</td>\n",
       "      <td>0</td>\n",
       "      <td>0</td>\n",
       "      <td>0</td>\n",
       "      <td>0</td>\n",
       "      <td>0</td>\n",
       "      <td>0</td>\n",
       "      <td>0</td>\n",
       "      <td>...</td>\n",
       "      <td>0</td>\n",
       "      <td>0</td>\n",
       "      <td>0</td>\n",
       "      <td>0</td>\n",
       "      <td>0</td>\n",
       "      <td>0</td>\n",
       "      <td>0</td>\n",
       "      <td>0</td>\n",
       "      <td>0</td>\n",
       "      <td>0</td>\n",
       "    </tr>\n",
       "    <tr>\n",
       "      <th>1</th>\n",
       "      <td>0</td>\n",
       "      <td>0</td>\n",
       "      <td>0</td>\n",
       "      <td>0</td>\n",
       "      <td>0</td>\n",
       "      <td>0</td>\n",
       "      <td>0</td>\n",
       "      <td>0</td>\n",
       "      <td>0</td>\n",
       "      <td>0</td>\n",
       "      <td>...</td>\n",
       "      <td>0</td>\n",
       "      <td>0</td>\n",
       "      <td>0</td>\n",
       "      <td>0</td>\n",
       "      <td>0</td>\n",
       "      <td>0</td>\n",
       "      <td>0</td>\n",
       "      <td>0</td>\n",
       "      <td>0</td>\n",
       "      <td>0</td>\n",
       "    </tr>\n",
       "    <tr>\n",
       "      <th>2</th>\n",
       "      <td>1</td>\n",
       "      <td>0</td>\n",
       "      <td>0</td>\n",
       "      <td>0</td>\n",
       "      <td>0</td>\n",
       "      <td>0</td>\n",
       "      <td>0</td>\n",
       "      <td>0</td>\n",
       "      <td>0</td>\n",
       "      <td>0</td>\n",
       "      <td>...</td>\n",
       "      <td>0</td>\n",
       "      <td>0</td>\n",
       "      <td>0</td>\n",
       "      <td>0</td>\n",
       "      <td>0</td>\n",
       "      <td>0</td>\n",
       "      <td>0</td>\n",
       "      <td>0</td>\n",
       "      <td>0</td>\n",
       "      <td>0</td>\n",
       "    </tr>\n",
       "    <tr>\n",
       "      <th>3</th>\n",
       "      <td>4</td>\n",
       "      <td>0</td>\n",
       "      <td>0</td>\n",
       "      <td>0</td>\n",
       "      <td>0</td>\n",
       "      <td>0</td>\n",
       "      <td>0</td>\n",
       "      <td>0</td>\n",
       "      <td>0</td>\n",
       "      <td>0</td>\n",
       "      <td>...</td>\n",
       "      <td>0</td>\n",
       "      <td>0</td>\n",
       "      <td>0</td>\n",
       "      <td>0</td>\n",
       "      <td>0</td>\n",
       "      <td>0</td>\n",
       "      <td>0</td>\n",
       "      <td>0</td>\n",
       "      <td>0</td>\n",
       "      <td>0</td>\n",
       "    </tr>\n",
       "    <tr>\n",
       "      <th>4</th>\n",
       "      <td>0</td>\n",
       "      <td>0</td>\n",
       "      <td>0</td>\n",
       "      <td>0</td>\n",
       "      <td>0</td>\n",
       "      <td>0</td>\n",
       "      <td>0</td>\n",
       "      <td>0</td>\n",
       "      <td>0</td>\n",
       "      <td>0</td>\n",
       "      <td>...</td>\n",
       "      <td>0</td>\n",
       "      <td>0</td>\n",
       "      <td>0</td>\n",
       "      <td>0</td>\n",
       "      <td>0</td>\n",
       "      <td>0</td>\n",
       "      <td>0</td>\n",
       "      <td>0</td>\n",
       "      <td>0</td>\n",
       "      <td>0</td>\n",
       "    </tr>\n",
       "  </tbody>\n",
       "</table>\n",
       "<p>5 rows × 785 columns</p>\n",
       "</div>"
      ],
      "text/plain": [
       "   label  pixel0  pixel1  pixel2  pixel3  pixel4  pixel5  pixel6  pixel7  \\\n",
       "0      1       0       0       0       0       0       0       0       0   \n",
       "1      0       0       0       0       0       0       0       0       0   \n",
       "2      1       0       0       0       0       0       0       0       0   \n",
       "3      4       0       0       0       0       0       0       0       0   \n",
       "4      0       0       0       0       0       0       0       0       0   \n",
       "\n",
       "   pixel8  ...  pixel774  pixel775  pixel776  pixel777  pixel778  pixel779  \\\n",
       "0       0  ...         0         0         0         0         0         0   \n",
       "1       0  ...         0         0         0         0         0         0   \n",
       "2       0  ...         0         0         0         0         0         0   \n",
       "3       0  ...         0         0         0         0         0         0   \n",
       "4       0  ...         0         0         0         0         0         0   \n",
       "\n",
       "   pixel780  pixel781  pixel782  pixel783  \n",
       "0         0         0         0         0  \n",
       "1         0         0         0         0  \n",
       "2         0         0         0         0  \n",
       "3         0         0         0         0  \n",
       "4         0         0         0         0  \n",
       "\n",
       "[5 rows x 785 columns]"
      ]
     },
     "execution_count": 8,
     "metadata": {},
     "output_type": "execute_result"
    }
   ],
   "source": [
    "train.head()"
   ]
  },
  {
   "cell_type": "code",
   "execution_count": 9,
   "metadata": {
    "execution": {
     "iopub.execute_input": "2021-09-08T16:46:16.513648Z",
     "iopub.status.busy": "2021-09-08T16:46:16.513318Z",
     "iopub.status.idle": "2021-09-08T16:46:16.594616Z",
     "shell.execute_reply": "2021-09-08T16:46:16.593792Z",
     "shell.execute_reply.started": "2021-09-08T16:46:16.51362Z"
    }
   },
   "outputs": [],
   "source": [
    "train_labels = train.pop(\"label\")"
   ]
  },
  {
   "cell_type": "code",
   "execution_count": 10,
   "metadata": {
    "execution": {
     "iopub.execute_input": "2021-09-08T16:46:19.261808Z",
     "iopub.status.busy": "2021-09-08T16:46:19.261482Z",
     "iopub.status.idle": "2021-09-08T16:46:19.27914Z",
     "shell.execute_reply": "2021-09-08T16:46:19.277918Z",
     "shell.execute_reply.started": "2021-09-08T16:46:19.261777Z"
    }
   },
   "outputs": [
    {
     "data": {
      "text/html": [
       "<div>\n",
       "<style scoped>\n",
       "    .dataframe tbody tr th:only-of-type {\n",
       "        vertical-align: middle;\n",
       "    }\n",
       "\n",
       "    .dataframe tbody tr th {\n",
       "        vertical-align: top;\n",
       "    }\n",
       "\n",
       "    .dataframe thead th {\n",
       "        text-align: right;\n",
       "    }\n",
       "</style>\n",
       "<table border=\"1\" class=\"dataframe\">\n",
       "  <thead>\n",
       "    <tr style=\"text-align: right;\">\n",
       "      <th></th>\n",
       "      <th>pixel0</th>\n",
       "      <th>pixel1</th>\n",
       "      <th>pixel2</th>\n",
       "      <th>pixel3</th>\n",
       "      <th>pixel4</th>\n",
       "      <th>pixel5</th>\n",
       "      <th>pixel6</th>\n",
       "      <th>pixel7</th>\n",
       "      <th>pixel8</th>\n",
       "      <th>pixel9</th>\n",
       "      <th>...</th>\n",
       "      <th>pixel774</th>\n",
       "      <th>pixel775</th>\n",
       "      <th>pixel776</th>\n",
       "      <th>pixel777</th>\n",
       "      <th>pixel778</th>\n",
       "      <th>pixel779</th>\n",
       "      <th>pixel780</th>\n",
       "      <th>pixel781</th>\n",
       "      <th>pixel782</th>\n",
       "      <th>pixel783</th>\n",
       "    </tr>\n",
       "  </thead>\n",
       "  <tbody>\n",
       "    <tr>\n",
       "      <th>0</th>\n",
       "      <td>0</td>\n",
       "      <td>0</td>\n",
       "      <td>0</td>\n",
       "      <td>0</td>\n",
       "      <td>0</td>\n",
       "      <td>0</td>\n",
       "      <td>0</td>\n",
       "      <td>0</td>\n",
       "      <td>0</td>\n",
       "      <td>0</td>\n",
       "      <td>...</td>\n",
       "      <td>0</td>\n",
       "      <td>0</td>\n",
       "      <td>0</td>\n",
       "      <td>0</td>\n",
       "      <td>0</td>\n",
       "      <td>0</td>\n",
       "      <td>0</td>\n",
       "      <td>0</td>\n",
       "      <td>0</td>\n",
       "      <td>0</td>\n",
       "    </tr>\n",
       "    <tr>\n",
       "      <th>1</th>\n",
       "      <td>0</td>\n",
       "      <td>0</td>\n",
       "      <td>0</td>\n",
       "      <td>0</td>\n",
       "      <td>0</td>\n",
       "      <td>0</td>\n",
       "      <td>0</td>\n",
       "      <td>0</td>\n",
       "      <td>0</td>\n",
       "      <td>0</td>\n",
       "      <td>...</td>\n",
       "      <td>0</td>\n",
       "      <td>0</td>\n",
       "      <td>0</td>\n",
       "      <td>0</td>\n",
       "      <td>0</td>\n",
       "      <td>0</td>\n",
       "      <td>0</td>\n",
       "      <td>0</td>\n",
       "      <td>0</td>\n",
       "      <td>0</td>\n",
       "    </tr>\n",
       "    <tr>\n",
       "      <th>2</th>\n",
       "      <td>0</td>\n",
       "      <td>0</td>\n",
       "      <td>0</td>\n",
       "      <td>0</td>\n",
       "      <td>0</td>\n",
       "      <td>0</td>\n",
       "      <td>0</td>\n",
       "      <td>0</td>\n",
       "      <td>0</td>\n",
       "      <td>0</td>\n",
       "      <td>...</td>\n",
       "      <td>0</td>\n",
       "      <td>0</td>\n",
       "      <td>0</td>\n",
       "      <td>0</td>\n",
       "      <td>0</td>\n",
       "      <td>0</td>\n",
       "      <td>0</td>\n",
       "      <td>0</td>\n",
       "      <td>0</td>\n",
       "      <td>0</td>\n",
       "    </tr>\n",
       "    <tr>\n",
       "      <th>3</th>\n",
       "      <td>0</td>\n",
       "      <td>0</td>\n",
       "      <td>0</td>\n",
       "      <td>0</td>\n",
       "      <td>0</td>\n",
       "      <td>0</td>\n",
       "      <td>0</td>\n",
       "      <td>0</td>\n",
       "      <td>0</td>\n",
       "      <td>0</td>\n",
       "      <td>...</td>\n",
       "      <td>0</td>\n",
       "      <td>0</td>\n",
       "      <td>0</td>\n",
       "      <td>0</td>\n",
       "      <td>0</td>\n",
       "      <td>0</td>\n",
       "      <td>0</td>\n",
       "      <td>0</td>\n",
       "      <td>0</td>\n",
       "      <td>0</td>\n",
       "    </tr>\n",
       "    <tr>\n",
       "      <th>4</th>\n",
       "      <td>0</td>\n",
       "      <td>0</td>\n",
       "      <td>0</td>\n",
       "      <td>0</td>\n",
       "      <td>0</td>\n",
       "      <td>0</td>\n",
       "      <td>0</td>\n",
       "      <td>0</td>\n",
       "      <td>0</td>\n",
       "      <td>0</td>\n",
       "      <td>...</td>\n",
       "      <td>0</td>\n",
       "      <td>0</td>\n",
       "      <td>0</td>\n",
       "      <td>0</td>\n",
       "      <td>0</td>\n",
       "      <td>0</td>\n",
       "      <td>0</td>\n",
       "      <td>0</td>\n",
       "      <td>0</td>\n",
       "      <td>0</td>\n",
       "    </tr>\n",
       "  </tbody>\n",
       "</table>\n",
       "<p>5 rows × 784 columns</p>\n",
       "</div>"
      ],
      "text/plain": [
       "   pixel0  pixel1  pixel2  pixel3  pixel4  pixel5  pixel6  pixel7  pixel8  \\\n",
       "0       0       0       0       0       0       0       0       0       0   \n",
       "1       0       0       0       0       0       0       0       0       0   \n",
       "2       0       0       0       0       0       0       0       0       0   \n",
       "3       0       0       0       0       0       0       0       0       0   \n",
       "4       0       0       0       0       0       0       0       0       0   \n",
       "\n",
       "   pixel9  ...  pixel774  pixel775  pixel776  pixel777  pixel778  pixel779  \\\n",
       "0       0  ...         0         0         0         0         0         0   \n",
       "1       0  ...         0         0         0         0         0         0   \n",
       "2       0  ...         0         0         0         0         0         0   \n",
       "3       0  ...         0         0         0         0         0         0   \n",
       "4       0  ...         0         0         0         0         0         0   \n",
       "\n",
       "   pixel780  pixel781  pixel782  pixel783  \n",
       "0         0         0         0         0  \n",
       "1         0         0         0         0  \n",
       "2         0         0         0         0  \n",
       "3         0         0         0         0  \n",
       "4         0         0         0         0  \n",
       "\n",
       "[5 rows x 784 columns]"
      ]
     },
     "execution_count": 10,
     "metadata": {},
     "output_type": "execute_result"
    }
   ],
   "source": [
    "test.head()"
   ]
  },
  {
   "cell_type": "code",
   "execution_count": 11,
   "metadata": {
    "execution": {
     "iopub.execute_input": "2021-09-08T16:46:24.801459Z",
     "iopub.status.busy": "2021-09-08T16:46:24.801145Z",
     "iopub.status.idle": "2021-09-08T16:46:25.368371Z",
     "shell.execute_reply": "2021-09-08T16:46:25.367693Z",
     "shell.execute_reply.started": "2021-09-08T16:46:24.801429Z"
    }
   },
   "outputs": [
    {
     "data": {
      "image/png": "[encoded data removed]",
      "text/plain": [
       "<Figure size 640x480 with 1 Axes>"
      ]
     },
     "metadata": {},
     "output_type": "display_data"
    },
    {
     "data": {
      "image/png": "[encoded data removed]",
      "text/plain": [
       "<Figure size 640x480 with 1 Axes>"
      ]
     },
     "metadata": {},
     "output_type": "display_data"
    },
    {
     "data": {
      "image/png": "[encoded data removed]",
      "text/plain": [
       "<Figure size 640x480 with 1 Axes>"
      ]
     },
     "metadata": {},
     "output_type": "display_data"
    },
    {
     "data": {
      "image/png": "[encoded data removed]",
      "text/plain": [
       "<Figure size 640x480 with 1 Axes>"
      ]
     },
     "metadata": {},
     "output_type": "display_data"
    },
    {
     "data": {
      "image/png": "[encoded data removed]",
      "text/plain": [
       "<Figure size 640x480 with 1 Axes>"
      ]
     },
     "metadata": {},
     "output_type": "display_data"
    }
   ],
   "source": [
    "for i in range(5):\n",
    "    plt.imshow(np.array(train.iloc[np.random.randint(train.shape[0])]).reshape(28, 28))\n",
    "    plt.show()"
   ]
  },
  {
   "cell_type": "markdown",
   "metadata": {},
   "source": [
    "## Validation Split"
   ]
  },
  {
   "cell_type": "code",
   "execution_count": 12,
   "metadata": {
    "execution": {
     "iopub.execute_input": "2021-09-08T17:01:40.786784Z",
     "iopub.status.busy": "2021-09-08T17:01:40.786473Z",
     "iopub.status.idle": "2021-09-08T17:01:41.025181Z",
     "shell.execute_reply": "2021-09-08T17:01:41.024296Z",
     "shell.execute_reply.started": "2021-09-08T17:01:40.786757Z"
    }
   },
   "outputs": [
    {
     "data": {
      "text/plain": [
       "((33600, 784), (33600,), (8400, 784), (8400,))"
      ]
     },
     "execution_count": 12,
     "metadata": {},
     "output_type": "execute_result"
    }
   ],
   "source": [
    "train_features, valid_features, train_targets, valid_targets = train_test_split(train, train_labels, test_size=0.2)\n",
    "train_features.shape, train_targets.shape, valid_features.shape, valid_targets.shape"
   ]
  },
  {
   "cell_type": "markdown",
   "metadata": {},
   "source": [
    "## Model Development"
   ]
  },
  {
   "cell_type": "code",
   "execution_count": 13,
   "metadata": {
    "execution": {
     "iopub.execute_input": "2021-09-08T17:01:44.165511Z",
     "iopub.status.busy": "2021-09-08T17:01:44.165173Z",
     "iopub.status.idle": "2021-09-08T17:03:28.814787Z",
     "shell.execute_reply": "2021-09-08T17:03:28.813957Z",
     "shell.execute_reply.started": "2021-09-08T17:01:44.165482Z"
    }
   },
   "outputs": [
    {
     "name": "stdout",
     "output_type": "stream",
     "text": [
      "0:\tlearn: 2.2037774\ttest: 2.2011961\tbest: 2.2011961 (0)\ttotal: 141ms\tremaining: 23m 27s\n",
      "500:\tlearn: 0.1418370\ttest: 0.1662779\tbest: 0.1662779 (500)\ttotal: 51.6s\tremaining: 16m 18s\n",
      "1000:\tlearn: 0.1075354\ttest: 0.1380668\tbest: 0.1380668 (1000)\ttotal: 1m 30s\tremaining: 13m 32s\n",
      "1500:\tlearn: 0.0871006\ttest: 0.1225490\tbest: 0.1225490 (1500)\ttotal: 2m 9s\tremaining: 12m 13s\n",
      "2000:\tlearn: 0.0745232\ttest: 0.1135557\tbest: 0.1135557 (2000)\ttotal: 2m 47s\tremaining: 11m 11s\n",
      "2500:\tlearn: 0.0642359\ttest: 0.1068046\tbest: 0.1068046 (2500)\ttotal: 3m 26s\tremaining: 10m 19s\n",
      "3000:\tlearn: 0.0560336\ttest: 0.1013437\tbest: 0.1013437 (3000)\ttotal: 4m 6s\tremaining: 9m 34s\n",
      "3500:\tlearn: 0.0488786\ttest: 0.0966454\tbest: 0.0966454 (3500)\ttotal: 4m 45s\tremaining: 8m 50s\n",
      "4000:\tlearn: 0.0426519\ttest: 0.0926534\tbest: 0.0926534 (4000)\ttotal: 5m 25s\tremaining: 8m 7s\n",
      "4500:\tlearn: 0.0373938\ttest: 0.0894667\tbest: 0.0894667 (4500)\ttotal: 6m 6s\tremaining: 7m 27s\n",
      "5000:\tlearn: 0.0327194\ttest: 0.0867156\tbest: 0.0867156 (5000)\ttotal: 6m 47s\tremaining: 6m 47s\n",
      "5500:\tlearn: 0.0288391\ttest: 0.0844723\tbest: 0.0844723 (5500)\ttotal: 7m 28s\tremaining: 6m 6s\n",
      "6000:\tlearn: 0.0254580\ttest: 0.0823484\tbest: 0.0823484 (6000)\ttotal: 8m 9s\tremaining: 5m 25s\n",
      "6500:\tlearn: 0.0226359\ttest: 0.0805257\tbest: 0.0805257 (6500)\ttotal: 8m 49s\tremaining: 4m 45s\n",
      "7000:\tlearn: 0.0203610\ttest: 0.0791304\tbest: 0.0791304 (7000)\ttotal: 9m 29s\tremaining: 4m 4s\n",
      "7500:\tlearn: 0.0184149\ttest: 0.0780141\tbest: 0.0780141 (7500)\ttotal: 10m 9s\tremaining: 3m 23s\n",
      "8000:\tlearn: 0.0167301\ttest: 0.0771585\tbest: 0.0771567 (7998)\ttotal: 10m 50s\tremaining: 2m 42s\n",
      "8500:\tlearn: 0.0151841\ttest: 0.0762619\tbest: 0.0762619 (8500)\ttotal: 11m 30s\tremaining: 2m 1s\n",
      "9000:\tlearn: 0.0138787\ttest: 0.0754499\tbest: 0.0754499 (9000)\ttotal: 12m 10s\tremaining: 1m 21s\n",
      "9500:\tlearn: 0.0127592\ttest: 0.0748410\tbest: 0.0748410 (9500)\ttotal: 12m 51s\tremaining: 40.5s\n",
      "9999:\tlearn: 0.0117404\ttest: 0.0742533\tbest: 0.0742461 (9979)\ttotal: 13m 30s\tremaining: 0us\n",
      "bestTest = 0.07424605597\n",
      "bestIteration = 9979\n",
      "Shrink model to first 9980 iterations.\n"
     ]
    },
    {
     "data": {
      "text/plain": [
       "<catboost.core.CatBoostClassifier at 0x196085d08e0>"
      ]
     },
     "execution_count": 13,
     "metadata": {},
     "output_type": "execute_result"
    }
   ],
   "source": [
    "cat_params = {\n",
    "    'iterations': 10000, \n",
    "    'depth': 6, \n",
    "    'task_type' : 'GPU',\n",
    "    'use_best_model': True,\n",
    "    'early_stopping_rounds': 500,\n",
    "    'learning_rate': 0.03,\n",
    "    \"verbose\": 500\n",
    "}\n",
    "cat = CatBoostClassifier(\n",
    "    **cat_params\n",
    ")\n",
    "cat.fit(train_features, train_targets, eval_set=[(valid_features, valid_targets)])"
   ]
  },
  {
   "cell_type": "markdown",
   "metadata": {},
   "source": [
    "## Model Evaluation"
   ]
  },
  {
   "cell_type": "code",
   "execution_count": 14,
   "metadata": {
    "execution": {
     "iopub.execute_input": "2021-09-08T17:03:35.117501Z",
     "iopub.status.busy": "2021-09-08T17:03:35.117173Z",
     "iopub.status.idle": "2021-09-08T17:03:35.123057Z",
     "shell.execute_reply": "2021-09-08T17:03:35.121826Z",
     "shell.execute_reply.started": "2021-09-08T17:03:35.117471Z"
    }
   },
   "outputs": [],
   "source": [
    "def evaluate(y_true, y_pred):\n",
    "    print(y_true.shape, y_pred.shape)\n",
    "    acc = sklearn.metrics.accuracy_score(y_true, y_pred)\n",
    "    print(\"Accuracy score: %.2f\"%(acc))\n",
    "    print(\"Classification report:\")\n",
    "    print(sklearn.metrics.classification_report(y_true, y_pred))"
   ]
  },
  {
   "cell_type": "code",
   "execution_count": 15,
   "metadata": {
    "execution": {
     "iopub.execute_input": "2021-09-08T17:03:38.338943Z",
     "iopub.status.busy": "2021-09-08T17:03:38.33861Z",
     "iopub.status.idle": "2021-09-08T17:03:38.647424Z",
     "shell.execute_reply": "2021-09-08T17:03:38.645341Z",
     "shell.execute_reply.started": "2021-09-08T17:03:38.338911Z"
    }
   },
   "outputs": [
    {
     "name": "stdout",
     "output_type": "stream",
     "text": [
      "(8400,) (8400,)\n",
      "Accuracy score: 0.98\n",
      "Classification report:\n",
      "              precision    recall  f1-score   support\n",
      "\n",
      "           0       0.98      0.99      0.98       836\n",
      "           1       0.99      0.98      0.99       950\n",
      "           2       0.97      0.98      0.97       799\n",
      "           3       0.97      0.97      0.97       873\n",
      "           4       0.97      0.98      0.98       789\n",
      "           5       0.98      0.97      0.97       766\n",
      "           6       0.98      0.98      0.98       806\n",
      "           7       0.98      0.98      0.98       926\n",
      "           8       0.98      0.97      0.97       831\n",
      "           9       0.98      0.97      0.97       824\n",
      "\n",
      "    accuracy                           0.98      8400\n",
      "   macro avg       0.98      0.98      0.98      8400\n",
      "weighted avg       0.98      0.98      0.98      8400\n",
      "\n"
     ]
    }
   ],
   "source": [
    "evaluate(valid_targets, cat.predict(valid_features).reshape(-1))"
   ]
  },
  {
   "cell_type": "markdown",
   "metadata": {},
   "source": [
    "## Submission"
   ]
  },
  {
   "cell_type": "code",
   "execution_count": 16,
   "metadata": {
    "execution": {
     "iopub.execute_input": "2021-09-08T17:03:42.382644Z",
     "iopub.status.busy": "2021-09-08T17:03:42.382327Z",
     "iopub.status.idle": "2021-09-08T17:03:43.266558Z",
     "shell.execute_reply": "2021-09-08T17:03:43.265765Z",
     "shell.execute_reply.started": "2021-09-08T17:03:42.382617Z"
    }
   },
   "outputs": [],
   "source": [
    "test_labels = cat.predict(test)\n",
    "image_ids = np.arange(1, test_labels.shape[0]+1)\n",
    "result = np.concatenate((image_ids.reshape(image_ids.shape[0], 1), test_labels.reshape(test_labels.shape[0], 1)), axis=1)\n",
    "df = pd.DataFrame(result, columns=[\"ImageId\", \"Label\"], dtype='int')\n",
    "df.to_csv(\"submission.csv\", index=False)"
   ]
  },
  {
   "cell_type": "code",
   "execution_count": null,
   "metadata": {},
   "outputs": [],
   "source": []
  }
 ],
 "metadata": {
  "kernelspec": {
   "display_name": "Python 3",
   "language": "python",
   "name": "python3"
  },
  "language_info": {
   "codemirror_mode": {
    "name": "ipython",
    "version": 3
   },
   "file_extension": ".py",
   "mimetype": "text/x-python",
   "name": "python",
   "nbconvert_exporter": "python",
   "pygments_lexer": "ipython3",
   "version": "3.9.6"
  }
 },
 "nbformat": 4,
 "nbformat_minor": 4
}
